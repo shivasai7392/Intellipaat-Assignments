{
 "cells": [
  {
   "cell_type": "code",
   "execution_count": null,
   "metadata": {},
   "outputs": [],
   "source": [
    "1.Write code to create a class named Employee\n",
    "    -It should have a constructor that takes name and salary as parameters and stores\n",
    "    them in the object.\n",
    "\n",
    "    -Make sure that when we print the object it Employees name and salary.\n",
    "    \n",
    "    -Define __str__ method in Employee class so that when someone trie to print the object the\n",
    "string Name: employee_name, Salary: employee_salary is printed with the actual employee\n",
    "name and salary.\n",
    "\n"
   ]
  },
  {
   "cell_type": "code",
   "execution_count": 16,
   "metadata": {},
   "outputs": [],
   "source": [
    "class Employee:\n",
    "    def __init__(self,Name,Salary):\n",
    "        self.Name = Name\n",
    "        self.Salary = Salary\n",
    "        \n",
    "    def __str__(self):\n",
    "        return self.Name+\", Salary: \"+str(self.Salary)"
   ]
  },
  {
   "cell_type": "code",
   "execution_count": 17,
   "metadata": {},
   "outputs": [],
   "source": [
    "employee1 = Employee(\"Shiva\",10000)"
   ]
  },
  {
   "cell_type": "code",
   "execution_count": 18,
   "metadata": {},
   "outputs": [
    {
     "name": "stdout",
     "output_type": "stream",
     "text": [
      "Shiva, Salary: 10000\n"
     ]
    }
   ],
   "source": [
    "print(employee1)"
   ]
  },
  {
   "cell_type": "code",
   "execution_count": 6,
   "metadata": {},
   "outputs": [
    {
     "name": "stdout",
     "output_type": "stream",
     "text": [
      "10000\n"
     ]
    }
   ],
   "source": [
    "print(employee1.Salary)"
   ]
  },
  {
   "cell_type": "code",
   "execution_count": null,
   "metadata": {},
   "outputs": [],
   "source": [
    "2.Write code to create a class named Calculator\n",
    "    -Define methods for addition, subtraction, multiplication and division that take in two\n",
    "    numbers and return another number after performing their respective operations.\n",
    "\n",
    "    -Define another method named execute_command that takes two numbers and a\n",
    "    string named command. The command string will be ‘add’, ‘sub’, ‘mul’, ‘div’. Perform\n",
    "    Addition, Subtraction, Multiplication and Division on the two numbers respectively.\n",
    "    Make sure the execute_command mrthod is case insensitive (meaning that even if\n",
    "    user passes ‘aDd’ as command it should perform addition on two numb"
   ]
  },
  {
   "cell_type": "code",
   "execution_count": 7,
   "metadata": {},
   "outputs": [],
   "source": [
    "class Calculator:\n",
    "    def addtion(self,num1,num2):\n",
    "        return num1+num2\n",
    "    def subtraction(self,num1,num2):\n",
    "        return (num1-num2).abs()\n",
    "    def multiplication(self,num1,num2):\n",
    "        return num1*num2\n",
    "    def division(self,num1,num2):\n",
    "        return num1//num2\n",
    "    def ececute_command(self,num1,num2,command):\n",
    "        if(command.lower() == \"add\"):\n",
    "            return self.addtion(num1,num2)\n",
    "        elif(command.lower() == \"sub\"):\n",
    "            return self.subtraction(num1,num2)\n",
    "        elif(command.lower() == \"mul\"):\n",
    "            return self.multiplication(num1,num2)\n",
    "        elif(command.lower() == \"div\"):\n",
    "            return self.division(num1,num2)\n",
    "        else:\n",
    "            pass"
   ]
  },
  {
   "cell_type": "code",
   "execution_count": 8,
   "metadata": {},
   "outputs": [],
   "source": [
    "cal = Calculator()"
   ]
  },
  {
   "cell_type": "code",
   "execution_count": 9,
   "metadata": {},
   "outputs": [
    {
     "data": {
      "text/plain": [
       "6"
      ]
     },
     "execution_count": 9,
     "metadata": {},
     "output_type": "execute_result"
    }
   ],
   "source": [
    "cal.ececute_command(12,2,\"Div\")"
   ]
  },
  {
   "cell_type": "code",
   "execution_count": 19,
   "metadata": {},
   "outputs": [],
   "source": [
    "cal.ececute_command(12,2,\"Divvv\")"
   ]
  },
  {
   "cell_type": "code",
   "execution_count": null,
   "metadata": {},
   "outputs": [],
   "source": []
  }
 ],
 "metadata": {
  "kernelspec": {
   "display_name": "Python 3",
   "language": "python",
   "name": "python3"
  },
  "language_info": {
   "codemirror_mode": {
    "name": "ipython",
    "version": 2
   },
   "file_extension": ".py",
   "mimetype": "text/x-python",
   "name": "python",
   "nbconvert_exporter": "python",
   "pygments_lexer": "ipython2",
   "version": "2.7.17"
  }
 },
 "nbformat": 4,
 "nbformat_minor": 2
}
